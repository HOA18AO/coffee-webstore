{
 "cells": [
  {
   "cell_type": "code",
   "execution_count": 2,
   "metadata": {},
   "outputs": [],
   "source": [
    "import pandas as pd\n",
    "import json"
   ]
  },
  {
   "cell_type": "code",
   "execution_count": 11,
   "metadata": {},
   "outputs": [
    {
     "data": {
      "text/plain": [
       "list"
      ]
     },
     "execution_count": 11,
     "metadata": {},
     "output_type": "execute_result"
    }
   ],
   "source": [
    "with open('VietnameLocations.json', mode='r', encoding='utf-8') as file:\n",
    "    data = json.load(file)\n",
    "type(data)"
   ]
  },
  {
   "cell_type": "code",
   "execution_count": 29,
   "metadata": {},
   "outputs": [
    {
     "data": {
      "text/plain": [
       "[['30337', 'An Phú', 'Thị trấn', 'An Phu'],\n",
       " ['30373', 'Đa Phước', 'Thị trấn', 'Da Phuoc'],\n",
       " ['30340', 'Khánh An', 'Xã', 'Khanh An'],\n",
       " ['30343', 'Khánh Bình', 'Xã', 'Khanh Binh'],\n",
       " ['30341', 'Long Bình', 'Thị Trấn', 'Long Binh'],\n",
       " ['30349', 'Nhơn Hội', 'Xã', 'Nhon Hoi'],\n",
       " ['30355', 'Phú Hội', 'Xã', 'Phu Hoi'],\n",
       " ['30352', 'Phú Hữu', 'Xã', 'Phu Huu'],\n",
       " ['30358', 'Phước Hưng', 'Xã', 'Phuoc Hung'],\n",
       " ['30346', 'Quốc Thái', 'Xã', 'Quoc Thai'],\n",
       " ['30364', 'Vĩnh Hậu', 'Xã', 'Vinh Hau'],\n",
       " ['30370', 'Vĩnh Hội Đông', 'Xã', 'Vinh Hoi Dong'],\n",
       " ['30361', 'Vĩnh Lộc', 'Xã', 'Vinh Loc'],\n",
       " ['30367', 'Vĩnh Trường', 'Xã', 'Vinh Truong']]"
      ]
     },
     "execution_count": 29,
     "metadata": {},
     "output_type": "execute_result"
    }
   ],
   "source": [
    "# data[x] -> 1 tỉnh\n",
    "# data[x][0] -> mã tỉnh (không phải từ 1 - 63) -> muốn là từ 1 đến 63\n",
    "# data[x][1] -> tên tỉnh (tiếng Việt)\n",
    "# data[x][2] -> tiền tố (tỉnh/thành phố)\n",
    "# data[x][4] -> dữ liệu các huyện/quận của tỉnh/thành phố\n",
    "# data[x][4][y] -> dữ liệu của huyện thứ y (trong tỉnh thứ x)\n",
    "# data[x][4][y][0] -> mã huyện/quận\n",
    "# data[x][4][y][1] -> tên huyện/quận (tiếng Việt)\n",
    "# data[x][4][y][2] -> tiền tố (huyện/quận/thị trấn)\n",
    "# data[x][4][y][4] -> dữ liệu các xã/phường của quận/huyện\n",
    "# data[x][4][y][4][z] tên huyện thứ z của quận huyện thứ y của tỉnh thứ x\n",
    "# data[x][4][y][4][z][0] -> mã xã/phường\n",
    "# data[x][4][y][4][z][1] -> tên xã/phường tiếng Việt\n",
    "# data[x][4][y][4][z][2] -> tiền tố\n",
    "data[0][4][0][4]"
   ]
  },
  {
   "cell_type": "code",
   "execution_count": 32,
   "metadata": {},
   "outputs": [],
   "source": [
    "# Initialize the final dictionary\n",
    "locations_dict = {}\n",
    "\n",
    "# Process the data\n",
    "for province in data:\n",
    "    province_name = province[1]  # Province name\n",
    "    \n",
    "    # Initialize the dictionary for districts in the current province\n",
    "    districts_dict = {}\n",
    "    \n",
    "    # Iterate through districts in the province\n",
    "    for district in province[4]:\n",
    "        district_name = district[2] + ' ' + district[1]  # District name\n",
    "        \n",
    "        # Collect ward names for this district\n",
    "        wards = [ward[2] + ' ' + ward[1] for ward in district[4]]  # List of ward names\n",
    "        \n",
    "        # Assign the district and its wards to the districts dictionary\n",
    "        districts_dict[district_name] = wards\n",
    "    \n",
    "    # Assign the province and its districts dictionary to the final dictionary\n",
    "    locations_dict[province_name] = districts_dict\n",
    "\n",
    "# Now `locations_dict` contains the structured data"
   ]
  },
  {
   "cell_type": "code",
   "execution_count": 35,
   "metadata": {},
   "outputs": [
    {
     "data": {
      "text/plain": [
       "['Phường An Khánh',\n",
       " 'Phường An Lợi Đông',\n",
       " 'Phường An Phú',\n",
       " 'Phường Bình Chiểu',\n",
       " 'Phường Bình Thọ',\n",
       " 'Phường Bình Trưng Đông',\n",
       " 'Phường Bình Trưng Tây',\n",
       " 'Phường Cát Lái',\n",
       " 'Phường Hiệp Bình Chánh',\n",
       " 'Phường Hiệp Bình Phước',\n",
       " 'Phường Hiệp Phú',\n",
       " 'Phường Linh Chiểu',\n",
       " 'Phường Linh Đông',\n",
       " 'Phường Linh Tây',\n",
       " 'Phường Linh Trung',\n",
       " 'Phường Linh Xuân',\n",
       " 'Phường Long Bình',\n",
       " 'Phường Long Phước',\n",
       " 'Phường Long Thạnh Mỹ',\n",
       " 'Phường Long Trường',\n",
       " 'Phường Phú Hữu',\n",
       " 'Phường Phước Bình',\n",
       " 'Phường Phước Long A',\n",
       " 'Phường Phước Long B',\n",
       " 'Phường Tam Bình',\n",
       " 'Phường Tam Phú',\n",
       " 'Phường Tân Phú',\n",
       " 'Phường Tăng Nhơn Phú A',\n",
       " 'Phường Tăng Nhơn Phú B',\n",
       " 'Phường Thạnh Mỹ Lợi',\n",
       " 'Phường Thảo Điền',\n",
       " 'Phường Thủ Thiêm',\n",
       " 'Phường Trường Thạnh',\n",
       " 'Phường Trường Thọ']"
      ]
     },
     "execution_count": 35,
     "metadata": {},
     "output_type": "execute_result"
    }
   ],
   "source": [
    "locations_dict['Hồ Chí Minh']['Thành phố Thủ Đức']"
   ]
  },
  {
   "cell_type": "code",
   "execution_count": 54,
   "metadata": {},
   "outputs": [],
   "source": [
    "# List to store SQL queries\n",
    "sql_queries = []\n",
    "\n",
    "# Track province and district IDs manually for simplicity\n",
    "province_id = 1\n",
    "district_id = 1\n",
    "ward_id = 1\n",
    "\n",
    "# SQL query template for provinces, districts, and wards\n",
    "province_query_template = 'INSERT INTO store_province(id, name) VALUES ({}, \"{}\");'\n",
    "district_query_template = 'INSERT INTO store_district(id, name, province_id) VALUES ({}, \"{}\", {});'\n",
    "ward_query_template = 'INSERT INTO store_ward(id, name, district_id) VALUES ({}, \"{}\", {});'"
   ]
  },
  {
   "cell_type": "code",
   "execution_count": 55,
   "metadata": {},
   "outputs": [],
   "source": [
    "# Iterate through provinces, districts, and wards to create SQL queries\n",
    "for province_name, districts in locations_dict.items():\n",
    "    # Insert province\n",
    "    sql_queries.append(province_query_template.format(province_id, province_name))\n",
    "    \n",
    "    # Iterate through districts in the current province\n",
    "    for district_name, wards in districts.items():\n",
    "        # Insert district, linked to the current province_id\n",
    "        sql_queries.append(district_query_template.format(district_id, district_name, province_id))\n",
    "        \n",
    "        # Iterate through wards in the current district\n",
    "        for ward_name in wards:\n",
    "            # Insert ward, linked to the current district_id\n",
    "            sql_queries.append(ward_query_template.format(ward_id, ward_name, district_id))\n",
    "            ward_id += 1  # Increment ward_id for the next ward\n",
    "        \n",
    "        district_id += 1  # Increment district_id for the next district\n",
    "    \n",
    "    province_id += 1  # Increment province_id for the next province\n",
    "\n",
    "# Join all queries into one string (or write them to a file)\n",
    "sql_script = \"\\n\".join(sql_queries)"
   ]
  },
  {
   "cell_type": "code",
   "execution_count": 56,
   "metadata": {},
   "outputs": [],
   "source": [
    "with open('sql_script.txt', mode='w', encoding='utf-8') as file:\n",
    "    for query in sql_queries:\n",
    "        file.write(query + '\\n')"
   ]
  }
 ],
 "metadata": {
  "kernelspec": {
   "display_name": "Python 3",
   "language": "python",
   "name": "python3"
  },
  "language_info": {
   "codemirror_mode": {
    "name": "ipython",
    "version": 3
   },
   "file_extension": ".py",
   "mimetype": "text/x-python",
   "name": "python",
   "nbconvert_exporter": "python",
   "pygments_lexer": "ipython3",
   "version": "3.10.4"
  }
 },
 "nbformat": 4,
 "nbformat_minor": 2
}
